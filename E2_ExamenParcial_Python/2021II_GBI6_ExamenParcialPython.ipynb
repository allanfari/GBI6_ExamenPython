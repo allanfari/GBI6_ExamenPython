{
 "cells": [
  {
   "cell_type": "markdown",
   "metadata": {},
   "source": [
    "<img src=\"https://www.ikiam.edu.ec/img/logo-ikiam-grey.png\" width=300 height=240 />\n",
    "\n",
    "# EXAMEN PARCIAL PYTHON\n",
    "    \n",
    "\n",
    "## GBI6-2021II: BIOINFORMÁTICA\n",
    "\n",
    "**Apellidos, Nombres** <--- CAMBIE POR LOS QUE CORRESPONDA A SUS DATOS\n",
    "\n",
    "**18-02-2021**"
   ]
  },
  {
   "cell_type": "markdown",
   "metadata": {},
   "source": [
    "<font color='red'>NO AGREGUE NUEVAS CELDAS, UTILICE ÚNICAMENTE LAS QUE ESTÁN CREADAS</font>\n"
   ]
  },
  {
   "cell_type": "markdown",
   "metadata": {},
   "source": [
    "### REQUERIMIENTOS PARA EL EXAMEN\n",
    "Para este examen se requiere dos documentos: \n",
    "\n",
    "1. Archivo ```miningscience.py``` donde tendrá dos funciones:\n",
    "\n",
    "2. Archivo ```2021II_GBI6_ExamenParcialPython``` donde se llamará las funciones y se obtendrá resultados."
   ]
  },
  {
   "cell_type": "markdown",
   "metadata": {},
   "source": [
    "## Ejercicio 1 [2 puntos]\n",
    "Cree el archivo ```miningscience.py``` con las siguientes dosfunciones:\n",
    "    \n",
    "i. ```download_pubmed```: para descargar la data de PubMed utilizando el **ENTREZ** de Biopython. El parámetro de entrada para la función es el ```keyword```. \n",
    "    \n",
    "ii. ```mining_pubs```: esta función debe utilizar el módulo **re** y utilizar el párametro ```tipo``` para realizar lo siguiente:\n",
    "        \n",
    "* Si el tipo es \"DP\" recupera el año de publicación del artículo. El retorno es un *dataframe* con el **PMID** y el **DP_year**.\n",
    "      \n",
    "* Si el tipo es \"AU\" recupera el número de autores por **PMID**. El retorno es un *dataframe* con el **PMID** y el **num_auth**. \n",
    "      \n",
    "* Si el tipo es \"AD\" recupera el conteo de autores por país. El retorno es un *dataframe* con el **country** y el **num_auth**. \n",
    "\n",
    "* *Puede utilizar un ```if``` dentro de la función.* \n",
    "\n",
    "* *Cree un docstring para cada función.* \n",
    "\n",
    "Luego de crear las funciones, cargue el módulo ```miningscience``` como ```msc``` e imprima docstring de cada función.\n",
    "\n",
    "\n"
   ]
  },
  {
   "cell_type": "code",
   "execution_count": 13,
   "metadata": {
    "collapsed": true
   },
   "outputs": [
    {
     "name": "stdout",
     "output_type": "stream",
     "text": [
      "Requirement already satisfied: biopython in c:\\programdata\\anaconda3\\lib\\site-packages (1.79)\n",
      "Requirement already satisfied: numpy in c:\\programdata\\anaconda3\\lib\\site-packages (from biopython) (1.20.3)\n",
      "Requirement already satisfied: reportlab in c:\\programdata\\anaconda3\\lib\\site-packages (3.6.7)\n",
      "Requirement already satisfied: pillow>=4.0.0 in c:\\programdata\\anaconda3\\lib\\site-packages (from reportlab) (8.4.0)\n",
      "Requirement already satisfied: nglview in c:\\programdata\\anaconda3\\lib\\site-packages (3.0.3)\n",
      "Requirement already satisfied: numpy in c:\\programdata\\anaconda3\\lib\\site-packages (from nglview) (1.20.3)\n",
      "Requirement already satisfied: jupyterlab-widgets in c:\\programdata\\anaconda3\\lib\\site-packages (from nglview) (1.0.0)\n",
      "Requirement already satisfied: ipywidgets>=7 in c:\\programdata\\anaconda3\\lib\\site-packages (from nglview) (7.6.5)\n",
      "Requirement already satisfied: traitlets>=4.3.1 in c:\\programdata\\anaconda3\\lib\\site-packages (from ipywidgets>=7->nglview) (5.1.0)\n",
      "Requirement already satisfied: widgetsnbextension~=3.5.0 in c:\\programdata\\anaconda3\\lib\\site-packages (from ipywidgets>=7->nglview) (3.5.1)\n",
      "Requirement already satisfied: nbformat>=4.2.0 in c:\\programdata\\anaconda3\\lib\\site-packages (from ipywidgets>=7->nglview) (5.1.3)\n",
      "Requirement already satisfied: ipykernel>=4.5.1 in c:\\programdata\\anaconda3\\lib\\site-packages (from ipywidgets>=7->nglview) (6.4.1)\n",
      "Requirement already satisfied: ipython-genutils~=0.2.0 in c:\\programdata\\anaconda3\\lib\\site-packages (from ipywidgets>=7->nglview) (0.2.0)\n",
      "Requirement already satisfied: ipython>=4.0.0 in c:\\programdata\\anaconda3\\lib\\site-packages (from ipywidgets>=7->nglview) (7.29.0)\n",
      "Requirement already satisfied: debugpy<2.0,>=1.0.0 in c:\\programdata\\anaconda3\\lib\\site-packages (from ipykernel>=4.5.1->ipywidgets>=7->nglview) (1.4.1)\n",
      "Requirement already satisfied: matplotlib-inline<0.2.0,>=0.1.0 in c:\\programdata\\anaconda3\\lib\\site-packages (from ipykernel>=4.5.1->ipywidgets>=7->nglview) (0.1.2)\n",
      "Requirement already satisfied: tornado<7.0,>=4.2 in c:\\programdata\\anaconda3\\lib\\site-packages (from ipykernel>=4.5.1->ipywidgets>=7->nglview) (6.1)\n",
      "Requirement already satisfied: jupyter-client<8.0 in c:\\programdata\\anaconda3\\lib\\site-packages (from ipykernel>=4.5.1->ipywidgets>=7->nglview) (6.1.12)\n",
      "Requirement already satisfied: jedi>=0.16 in c:\\programdata\\anaconda3\\lib\\site-packages (from ipython>=4.0.0->ipywidgets>=7->nglview) (0.18.0)\n",
      "Requirement already satisfied: setuptools>=18.5 in c:\\programdata\\anaconda3\\lib\\site-packages (from ipython>=4.0.0->ipywidgets>=7->nglview) (58.0.4)\n",
      "Requirement already satisfied: pygments in c:\\programdata\\anaconda3\\lib\\site-packages (from ipython>=4.0.0->ipywidgets>=7->nglview) (2.10.0)\n",
      "Requirement already satisfied: decorator in c:\\programdata\\anaconda3\\lib\\site-packages (from ipython>=4.0.0->ipywidgets>=7->nglview) (5.1.0)\n",
      "Requirement already satisfied: backcall in c:\\programdata\\anaconda3\\lib\\site-packages (from ipython>=4.0.0->ipywidgets>=7->nglview) (0.2.0)\n",
      "Requirement already satisfied: prompt-toolkit!=3.0.0,!=3.0.1,<3.1.0,>=2.0.0 in c:\\programdata\\anaconda3\\lib\\site-packages (from ipython>=4.0.0->ipywidgets>=7->nglview) (3.0.20)\n",
      "Requirement already satisfied: pickleshare in c:\\programdata\\anaconda3\\lib\\site-packages (from ipython>=4.0.0->ipywidgets>=7->nglview) (0.7.5)\n",
      "Requirement already satisfied: colorama in c:\\programdata\\anaconda3\\lib\\site-packages (from ipython>=4.0.0->ipywidgets>=7->nglview) (0.4.4)\n",
      "Requirement already satisfied: parso<0.9.0,>=0.8.0 in c:\\programdata\\anaconda3\\lib\\site-packages (from jedi>=0.16->ipython>=4.0.0->ipywidgets>=7->nglview) (0.8.2)\n",
      "Requirement already satisfied: python-dateutil>=2.1 in c:\\programdata\\anaconda3\\lib\\site-packages (from jupyter-client<8.0->ipykernel>=4.5.1->ipywidgets>=7->nglview) (2.8.2)\n",
      "Requirement already satisfied: jupyter-core>=4.6.0 in c:\\programdata\\anaconda3\\lib\\site-packages (from jupyter-client<8.0->ipykernel>=4.5.1->ipywidgets>=7->nglview) (4.8.1)\n",
      "Requirement already satisfied: pyzmq>=13 in c:\\programdata\\anaconda3\\lib\\site-packages (from jupyter-client<8.0->ipykernel>=4.5.1->ipywidgets>=7->nglview) (22.2.1)\n",
      "Requirement already satisfied: pywin32>=1.0 in c:\\programdata\\anaconda3\\lib\\site-packages (from jupyter-core>=4.6.0->jupyter-client<8.0->ipykernel>=4.5.1->ipywidgets>=7->nglview) (228)\n",
      "Requirement already satisfied: jsonschema!=2.5.0,>=2.4 in c:\\programdata\\anaconda3\\lib\\site-packages (from nbformat>=4.2.0->ipywidgets>=7->nglview) (3.2.0)\n",
      "Requirement already satisfied: attrs>=17.4.0 in c:\\programdata\\anaconda3\\lib\\site-packages (from jsonschema!=2.5.0,>=2.4->nbformat>=4.2.0->ipywidgets>=7->nglview) (21.2.0)\n",
      "Requirement already satisfied: pyrsistent>=0.14.0 in c:\\programdata\\anaconda3\\lib\\site-packages (from jsonschema!=2.5.0,>=2.4->nbformat>=4.2.0->ipywidgets>=7->nglview) (0.18.0)\n",
      "Requirement already satisfied: six>=1.11.0 in c:\\programdata\\anaconda3\\lib\\site-packages (from jsonschema!=2.5.0,>=2.4->nbformat>=4.2.0->ipywidgets>=7->nglview) (1.16.0)\n",
      "Requirement already satisfied: wcwidth in c:\\programdata\\anaconda3\\lib\\site-packages (from prompt-toolkit!=3.0.0,!=3.0.1,<3.1.0,>=2.0.0->ipython>=4.0.0->ipywidgets>=7->nglview) (0.2.5)\n",
      "Requirement already satisfied: notebook>=4.4.1 in c:\\programdata\\anaconda3\\lib\\site-packages (from widgetsnbextension~=3.5.0->ipywidgets>=7->nglview) (6.4.5)\n",
      "Requirement already satisfied: jinja2 in c:\\programdata\\anaconda3\\lib\\site-packages (from notebook>=4.4.1->widgetsnbextension~=3.5.0->ipywidgets>=7->nglview) (2.11.3)\n",
      "Requirement already satisfied: argon2-cffi in c:\\programdata\\anaconda3\\lib\\site-packages (from notebook>=4.4.1->widgetsnbextension~=3.5.0->ipywidgets>=7->nglview) (20.1.0)\n",
      "Requirement already satisfied: Send2Trash>=1.5.0 in c:\\programdata\\anaconda3\\lib\\site-packages (from notebook>=4.4.1->widgetsnbextension~=3.5.0->ipywidgets>=7->nglview) (1.8.0)\n",
      "Requirement already satisfied: terminado>=0.8.3 in c:\\programdata\\anaconda3\\lib\\site-packages (from notebook>=4.4.1->widgetsnbextension~=3.5.0->ipywidgets>=7->nglview) (0.9.4)\n",
      "Requirement already satisfied: nbconvert in c:\\programdata\\anaconda3\\lib\\site-packages (from notebook>=4.4.1->widgetsnbextension~=3.5.0->ipywidgets>=7->nglview) (6.1.0)\n",
      "Requirement already satisfied: prometheus-client in c:\\programdata\\anaconda3\\lib\\site-packages (from notebook>=4.4.1->widgetsnbextension~=3.5.0->ipywidgets>=7->nglview) (0.11.0)\n",
      "Requirement already satisfied: pywinpty>=0.5 in c:\\programdata\\anaconda3\\lib\\site-packages (from terminado>=0.8.3->notebook>=4.4.1->widgetsnbextension~=3.5.0->ipywidgets>=7->nglview) (0.5.7)\n",
      "Requirement already satisfied: cffi>=1.0.0 in c:\\programdata\\anaconda3\\lib\\site-packages (from argon2-cffi->notebook>=4.4.1->widgetsnbextension~=3.5.0->ipywidgets>=7->nglview) (1.14.6)\n",
      "Requirement already satisfied: pycparser in c:\\programdata\\anaconda3\\lib\\site-packages (from cffi>=1.0.0->argon2-cffi->notebook>=4.4.1->widgetsnbextension~=3.5.0->ipywidgets>=7->nglview) (2.20)\n",
      "Requirement already satisfied: MarkupSafe>=0.23 in c:\\programdata\\anaconda3\\lib\\site-packages (from jinja2->notebook>=4.4.1->widgetsnbextension~=3.5.0->ipywidgets>=7->nglview) (1.1.1)\n",
      "Requirement already satisfied: mistune<2,>=0.8.1 in c:\\programdata\\anaconda3\\lib\\site-packages (from nbconvert->notebook>=4.4.1->widgetsnbextension~=3.5.0->ipywidgets>=7->nglview) (0.8.4)\n",
      "Requirement already satisfied: jupyterlab-pygments in c:\\programdata\\anaconda3\\lib\\site-packages (from nbconvert->notebook>=4.4.1->widgetsnbextension~=3.5.0->ipywidgets>=7->nglview) (0.1.2)\n",
      "Requirement already satisfied: entrypoints>=0.2.2 in c:\\programdata\\anaconda3\\lib\\site-packages (from nbconvert->notebook>=4.4.1->widgetsnbextension~=3.5.0->ipywidgets>=7->nglview) (0.3)\n",
      "Requirement already satisfied: bleach in c:\\programdata\\anaconda3\\lib\\site-packages (from nbconvert->notebook>=4.4.1->widgetsnbextension~=3.5.0->ipywidgets>=7->nglview) (4.0.0)\n",
      "Requirement already satisfied: pandocfilters>=1.4.1 in c:\\programdata\\anaconda3\\lib\\site-packages (from nbconvert->notebook>=4.4.1->widgetsnbextension~=3.5.0->ipywidgets>=7->nglview) (1.4.3)\n",
      "Requirement already satisfied: testpath in c:\\programdata\\anaconda3\\lib\\site-packages (from nbconvert->notebook>=4.4.1->widgetsnbextension~=3.5.0->ipywidgets>=7->nglview) (0.5.0)\n",
      "Requirement already satisfied: defusedxml in c:\\programdata\\anaconda3\\lib\\site-packages (from nbconvert->notebook>=4.4.1->widgetsnbextension~=3.5.0->ipywidgets>=7->nglview) (0.7.1)\n",
      "Requirement already satisfied: nbclient<0.6.0,>=0.5.0 in c:\\programdata\\anaconda3\\lib\\site-packages (from nbconvert->notebook>=4.4.1->widgetsnbextension~=3.5.0->ipywidgets>=7->nglview) (0.5.3)\n",
      "Requirement already satisfied: async-generator in c:\\programdata\\anaconda3\\lib\\site-packages (from nbclient<0.6.0,>=0.5.0->nbconvert->notebook>=4.4.1->widgetsnbextension~=3.5.0->ipywidgets>=7->nglview) (1.10)\n",
      "Requirement already satisfied: nest-asyncio in c:\\programdata\\anaconda3\\lib\\site-packages (from nbclient<0.6.0,>=0.5.0->nbconvert->notebook>=4.4.1->widgetsnbextension~=3.5.0->ipywidgets>=7->nglview) (1.5.1)\n",
      "Requirement already satisfied: packaging in c:\\programdata\\anaconda3\\lib\\site-packages (from bleach->nbconvert->notebook>=4.4.1->widgetsnbextension~=3.5.0->ipywidgets>=7->nglview) (21.0)\n",
      "Requirement already satisfied: webencodings in c:\\programdata\\anaconda3\\lib\\site-packages (from bleach->nbconvert->notebook>=4.4.1->widgetsnbextension~=3.5.0->ipywidgets>=7->nglview) (0.5.1)\n",
      "Requirement already satisfied: pyparsing>=2.0.2 in c:\\programdata\\anaconda3\\lib\\site-packages (from packaging->bleach->nbconvert->notebook>=4.4.1->widgetsnbextension~=3.5.0->ipywidgets>=7->nglview) (3.0.4)\n"
     ]
    }
   ],
   "source": [
    "!pip install biopython\n",
    "!pip install reportlab\n",
    "!pip install nglview\n",
    "from Bio import Entrez\n",
    "from Bio import SeqIO\n",
    "import re"
   ]
  },
  {
   "cell_type": "code",
   "execution_count": 3,
   "metadata": {},
   "outputs": [
    {
     "ename": "IndentationError",
     "evalue": "expected an indented block (miningscience.py, line 17)",
     "output_type": "error",
     "traceback": [
      "Traceback \u001b[1;36m(most recent call last)\u001b[0m:\n",
      "  File \u001b[0;32m\"C:\\ProgramData\\Anaconda3\\lib\\site-packages\\IPython\\core\\interactiveshell.py\"\u001b[0m, line \u001b[0;32m3444\u001b[0m, in \u001b[0;35mrun_code\u001b[0m\n    exec(code_obj, self.user_global_ns, self.user_ns)\n",
      "\u001b[1;36m  File \u001b[1;32m\"C:\\Users\\LENOVO\\AppData\\Local\\Temp/ipykernel_61788/977420628.py\"\u001b[1;36m, line \u001b[1;32m1\u001b[1;36m, in \u001b[1;35m<module>\u001b[1;36m\u001b[0m\n\u001b[1;33m    import miningscience as msc\u001b[0m\n",
      "\u001b[1;36m  File \u001b[1;32m\"C:\\Users\\LENOVO\\Videos\\E2_ExamenParcial_Python\\miningscience.py\"\u001b[1;36m, line \u001b[1;32m17\u001b[0m\n\u001b[1;33m    if tipo == \"AU\":\u001b[0m\n\u001b[1;37m    ^\u001b[0m\n\u001b[1;31mIndentationError\u001b[0m\u001b[1;31m:\u001b[0m expected an indented block\n"
     ]
    }
   ],
   "source": [
    "import miningscience as msc\n",
    "msc.download_pubmed\n",
    "\n",
    "help(msc)"
   ]
  },
  {
   "cell_type": "markdown",
   "metadata": {},
   "source": [
    "\n",
    "## Ejercicio 2 [1 punto]\n",
    "\n",
    "\n",
    "Utilice la función ```download_pubmed``` para descargar la data con el keyword ```Ecuador proteomics``` e imprima lo siguiente: \n",
    "\n",
    "```python\n",
    "'El número de artículos es: xx' # xx corresponde al número de artículos recuperados\n",
    "\n",
    "'El PMID del primer artículo es: xxxxxxxx' # xxxxxxxx corresponde al ID del artículo en PUDMED\n",
    "\n",
    "```"
   ]
  },
  {
   "cell_type": "code",
   "execution_count": 101,
   "metadata": {},
   "outputs": [
    {
     "name": "stdout",
     "output_type": "stream",
     "text": [
      "El número de artículos es:\n",
      "55\n"
     ]
    }
   ],
   "source": [
    "# Escriba aquí su código para el ejercicio 2\n",
    "Entrez.email = 'allan.farinango@est.ikiam.edu.ec'\n",
    "handle = Entrez.esearch(db = 'pubmed', term='Ecuador Genomics[Title/abstract]', usehistory = 'y')\n",
    "record = Entrez.read(handle)\n",
    "id_list = record['IdList']\n",
    "#### imprimo el numero de articulos que responden a la entrada ECUADOR GENOMICS\n",
    "print('El número de artículos es:')\n",
    "print(record['Count'])"
   ]
  },
  {
   "cell_type": "code",
   "execution_count": 102,
   "metadata": {},
   "outputs": [],
   "source": [
    "with open('data/summary-ecuadorgen-set.txt', encoding=\"utf8\") as f:\n",
    "    my_text = f.read()\n",
    "# reemplaze las iteraciones y las uní en una sola linea para poder encontrarlas rapido\n",
    "my_text = re.sub(r'\\n\\s{6}', ' ', my_text)\n"
   ]
  },
  {
   "cell_type": "code",
   "execution_count": 100,
   "metadata": {},
   "outputs": [
    {
     "name": "stdout",
     "output_type": "stream",
     "text": [
      "El PMID del primer artículo es:\n",
      "['PMID: 19844075']\n"
     ]
    }
   ],
   "source": [
    "m = re.findall(r\"(PMID:\\s\\w+)\", my_text)##\n",
    "print('El PMID del primer artículo es:')\n",
    "print(m[:1])"
   ]
  },
  {
   "cell_type": "code",
   "execution_count": 103,
   "metadata": {},
   "outputs": [
    {
     "data": {
      "text/plain": [
       "'C:\\\\Users\\\\LENOVO\\\\Videos\\\\E2_ExamenParcial_Python'"
      ]
     },
     "execution_count": 103,
     "metadata": {},
     "output_type": "execute_result"
    }
   ],
   "source": [
    "%pwd"
   ]
  },
  {
   "cell_type": "markdown",
   "metadata": {},
   "source": [
    "## Ejercicio 3 [1 punto]\n",
    "\n",
    "Utilice la función ```mining_pubs``` para crear los siguientes dataframes: \n",
    "\n",
    "* pub_year\n",
    "\n",
    "* pub_authors\n",
    "\n",
    "* coutries\n",
    "\n",
    "Muestre los dos primeros y los dos últimos registros de cada dataframe. "
   ]
  },
  {
   "cell_type": "code",
   "execution_count": 2,
   "metadata": {},
   "outputs": [],
   "source": [
    "# Escriba aquí su código para el ejercicio 3"
   ]
  },
  {
   "cell_type": "markdown",
   "metadata": {
    "jp-MarkdownHeadingCollapsed": true,
    "tags": []
   },
   "source": [
    "## Ejercicio 4 [2 puntos]\n",
    "\n",
    "Realice la visualización de los datos del ejercicio 3. \n",
    "\n",
    "* ```pubyear```: utilizando el conteo artículos por año, calcule la media y la desviación estandar (asumiendo que la distribución es normal). Realice un gráfico de la distribución normal de sus datos. Coloque el título, leyenda de los ejes \"x\" e \"y\", y la leyenda de la curva (utilice las expresiones matemáticas tipos latex de ser necesario). \n",
    "\n",
    "* ```pub_authors```: realice un boxplot del conteo de autores por artículo. Coloque las leyendas adecuadas para cada eje y el título.  \n",
    "\n",
    "* ```countries```: realice una nube de puntos (adaptación de su tarea), resalte al menos 3 países con flechas. Coloque las leyendas adecuadas para cada eje y el título. \n"
   ]
  },
  {
   "cell_type": "code",
   "execution_count": 4,
   "metadata": {},
   "outputs": [],
   "source": [
    "# Escriba aquí su código para el ejercicio 4"
   ]
  },
  {
   "cell_type": "markdown",
   "metadata": {},
   "source": [
    "## Ejercicio 5 [1 punto]\n",
    "\n",
    "Interprete los resultados del **ejercicio 4**"
   ]
  },
  {
   "cell_type": "markdown",
   "metadata": {},
   "source": [
    "### Escriba la respuesta del ejercicio 5\n"
   ]
  },
  {
   "cell_type": "markdown",
   "metadata": {},
   "source": [
    "## Ejercicio 6 [2 puntos]\n",
    "\n",
    "Para algún gen de interés, realice lo siguiente: \n",
    "\n",
    "1. Una búsqueda en la página del [NCBI nucleotide](https://www.ncbi.nlm.nih.gov/nucleotide/).\n",
    "\n",
    "2. Descargue el ```Accession List``` de su búsqueda.\n",
    "\n",
    "3. Cargue el ```Accession List``` en este notebook y haga una descarga de la data tipo ```genbank``` utilizando los diez primeros IDs de accesión. \n",
    "\n",
    "4. Arme un árbol filogenético para los resultados del paso 3.\n",
    "\n",
    "5. Interprete el árbol del paso 4. "
   ]
  },
  {
   "cell_type": "code",
   "execution_count": 4,
   "metadata": {
    "collapsed": true
   },
   "outputs": [
    {
     "name": "stdout",
     "output_type": "stream",
     "text": [
      "MW196737.1 Echovirus E30 isolate E30/COR/ARG/Mar_2017_24 capsid protein VP1 gene, partial cds...\n",
      "Sequence length 315, 2 features, from: Echovirus E30\n",
      "MW196736.1 Echovirus E30 isolate E30/COR/ARG/Mar_2017_145 capsid protein VP1 gene, partial cds...\n",
      "Sequence length 315, 2 features, from: Echovirus E30\n",
      "MW196735.1 Echovirus E30 isolate E30/COR/ARG/Apr_2017_14 capsid protein VP1 gene, partial cds...\n",
      "Sequence length 315, 2 features, from: Echovirus E30\n",
      "MW196734.1 Echovirus E30 isolate E30/FB/URY/Jun_2017_OTU-G capsid protein VP1 gene, partial cds...\n",
      "Sequence length 324, 2 features, from: Echovirus E30\n",
      "MW196733.1 Echovirus E30 isolate E30/BU/URY/Jun_2017_OTU-E capsid protein VP1 gene, partial cds...\n",
      "Sequence length 324, 2 features, from: Echovirus E30\n",
      "MW196732.1 Echovirus E30 isolate E30/BU/URY/Jun_2017_OTU-D capsid protein VP1 gene, partial cds...\n",
      "Sequence length 324, 2 features, from: Echovirus E30\n",
      "MW196731.1 Echovirus E30 isolate E30/FB/URY/Jul_2017_OTU-H capsid protein VP1 gene, partial cds...\n",
      "Sequence length 324, 2 features, from: Echovirus E30\n",
      "MW196730.1 Echovirus E30 isolate E30/BU/URY/Jul_2017_OTU-F capsid protein VP1 gene, partial cds...\n",
      "Sequence length 324, 2 features, from: Echovirus E30\n",
      "MW196729.1 Echovirus E30 isolate E30/COR/ARG/May_2017_3552 capsid protein VP1 gene, partial cds...\n",
      "Sequence length 324, 2 features, from: Echovirus E30\n",
      "MW196728.1 Echovirus E30 isolate E30/COR/ARG/Mar_2017_9143 capsid protein VP1 gene, partial cds...\n",
      "Sequence length 324, 2 features, from: Echovirus E30\n"
     ]
    }
   ],
   "source": [
    "# Escriba aquí su código para el ejercicio 6\n",
    "with open(\"data/sequence.seq\") as s:#llamo a la base de datos donde estan las IDs\n",
    "    Entrez.email = \"allan.farinango@est.ikiam.edu.ec\" \n",
    "    with Entrez.efetch( db=\"nucleotide\", rettype=\"gb\", retmode=\"text\", id='MW196737.1, MW196736.1, MW196735.1, MW196734.1, MW196733.1, MW196732.1, MW196731.1, MW196730.1, MW196729.1, MW196728.1'\n",
    "                  ) as handle: #llamo a las 10 primeras secuencias de modo gb \n",
    "        for seq_record in SeqIO.parse(handle, \"gb\"): \n",
    "            print(\"%s %s...\" % (seq_record.id, seq_record.description[:100])) \n",
    "            print( \"Sequence length %i, %i features, from: %s\" % ( len(seq_record), \n",
    "                                                                  len(seq_record.features), \n",
    "                                                                  seq_record.annotations[\"source\"], ) )\n",
    "\n"
   ]
  },
  {
   "cell_type": "code",
   "execution_count": 5,
   "metadata": {},
   "outputs": [],
   "source": [
    "from Bio import AlignIO\n",
    "from Bio import Phylo\n",
    "from Bio.Align.Applications import ClustalwCommandline\n",
    "import os"
   ]
  },
  {
   "cell_type": "code",
   "execution_count": 6,
   "metadata": {},
   "outputs": [
    {
     "name": "stdout",
     "output_type": "stream",
     "text": [
      "\"C:\\Program Files (x86)\\ClustalW2\\clustalw2.exe\" -infile=data/sequence.fasta\n"
     ]
    }
   ],
   "source": [
    "clustalw_exe = r\"C:\\Program Files (x86)\\ClustalW2\\clustalw2.exe\"##creo los dos archivos que me ayudan a crear el dendograma\n",
    "clustalw_cline = ClustalwCommandline(clustalw_exe, infile = \"data/sequence.fasta\")\n",
    "assert os.path.isfile(clustalw_exe), \"Clustal_W executable is missing or not found\"\n",
    "stdout, stderr = clustalw_cline()\n",
    "print(clustalw_cline)"
   ]
  },
  {
   "cell_type": "code",
   "execution_count": 12,
   "metadata": {},
   "outputs": [
    {
     "ename": "SyntaxError",
     "evalue": "invalid syntax (Temp/ipykernel_61788/4062158902.py, line 1)",
     "output_type": "error",
     "traceback": [
      "\u001b[1;36m  File \u001b[1;32m\"C:\\Users\\LENOVO\\AppData\\Local\\Temp/ipykernel_61788/4062158902.py\"\u001b[1;36m, line \u001b[1;32m1\u001b[0m\n\u001b[1;33m    ClustalAlign = head AlignIO.read(\"data/sequence.aln\", \"clustal\")#nucleotidos parecidos entre las especies identificadas por IDs\u001b[0m\n\u001b[1;37m                        ^\u001b[0m\n\u001b[1;31mSyntaxError\u001b[0m\u001b[1;31m:\u001b[0m invalid syntax\n"
     ]
    }
   ],
   "source": [
    "ClustalAlign = AlignIO.read(\"data/sequence.aln\", \"clustal\")#nucleotidos parecidos entre las especies identificadas por IDs\n",
    "print(ClustalAlign)"
   ]
  },
  {
   "cell_type": "code",
   "execution_count": 8,
   "metadata": {
    "collapsed": true
   },
   "outputs": [
    {
     "name": "stdout",
     "output_type": "stream",
     "text": [
      "  , MW196737.1\n",
      "  |\n",
      "  | , MW196734.1\n",
      "  |,|\n",
      " ,||, MW196731.1\n",
      " ||||\n",
      " |||| MW196730.1\n",
      " |||\n",
      " ||| __ MW196733.1\n",
      " ||||\n",
      " | || MW196732.1\n",
      " | |\n",
      " | | MW196713.1\n",
      " |\n",
      " |        , MW196735.1\n",
      " |        |\n",
      " |       ,, MW196729.1\n",
      " |       ||\n",
      " |       || MW196723.1\n",
      " |    ___||\n",
      " |   |   || MW196714.1\n",
      " |   |   |\n",
      " |   |   |, MW196727.1\n",
      " |   |   ||\n",
      " |   |    | MW196721.1\n",
      " |   |\n",
      " |   |     , MW196722.1\n",
      " |   |     |\n",
      " |   |     | MW196716.1\n",
      " |   |     |\n",
      " |   |    ,| MW196718.1\n",
      " |   |    ||\n",
      " |   |    ||_ MW196715.1\n",
      " |   |____|\n",
      " |   |    |, MW196720.1\n",
      " |   |    ||\n",
      " |   |    || MW196717.1\n",
      " |   |     |\n",
      " |   |     |__ MW196719.1\n",
      " |   |\n",
      " |   |                                                  , MW196712.1\n",
      " |   |                                                  |\n",
      " |   |                                                 _| MW196711.1\n",
      " |   |                                                | |\n",
      " |   |                                                | |___ MW196697.1\n",
      " |   |                                                |\n",
      " |   |                                                | , MW196709.1\n",
      " |   |                                                | |\n",
      " |   |                                                | | MW196707.1\n",
      " |   |                                                | |\n",
      " |   |                                                | | MW196698.1\n",
      " |   |                                                | |\n",
      " |   |                                                |,| MW196700.1\n",
      " |   |                                                |||\n",
      " |   |                                               _||| MW196702.1\n",
      " |   |                                              | ||\n",
      " |   |                                              | ||_ MW196706.1\n",
      " |   |                                              | ||\n",
      " |   |                                              | || MW196703.1\n",
      " |   |                                              | |\n",
      " |   |                                              | | MW196704.1\n",
      " |   |                                             _|\n",
      " |   |                                            | | MW196701.1\n",
      " |   |                                          __| |\n",
      " |   |                                         |  | | MW196710.1\n",
      " |   |                                         |  |\n",
      " |   |                                 ________|  |___ MW196708.1\n",
      " |   |                                |        |\n",
      " |   |                                |        |    _ MW196705.1\n",
      " |   |                              __|        |___|\n",
      " |   |                             |  |            |_ MW196699.1\n",
      " | __|                             |  |\n",
      " ||  |             ________________|  |    ___________________ MW117025.1\n",
      " ||  |            |                |  |___|\n",
      " ||  |            |                |      |____________________ MW117024.1\n",
      " ||  |           ,|                |\n",
      " ||  |           ||                |__________ MW117026.1\n",
      " ||  |           ||\n",
      " ||  |          _||   _______________ MW117027.1\n",
      " ||  |         | ||__|\n",
      " ||  |         | |   |___________ MW117020.1\n",
      " ||  |         | |\n",
      " ||  |         | |_______________ MW117014.1\n",
      " ||  |         |\n",
      " ||  |         |                             , MW117035.1\n",
      " ||  |         |                  ___________|\n",
      " ||  |         |                 |           | MW117034.1\n",
      " ||  |         |                 |\n",
      " ||  |         |                 |                 , MW117012.1\n",
      " ||  |         |                 |                 |\n",
      " ||  |         |               __|                ,| MW117011.1\n",
      " ||  |         |              |  |                ||\n",
      " ||  |         |              |  |               ,|| MW117008.1\n",
      " ||  |         |              |  |               ||\n",
      " ||  |        ,|              |  |              _|| MW117007.1\n",
      " ||  |        ||             _|  |             | |\n",
      " ||  |        ||            | |  |_____________| |_ MW117009.1\n",
      " ||  |        ||            | |                |\n",
      " ||  |        ||            | |                | MW117010.1\n",
      " ||  |        ||            | |\n",
      " ||  |        ||            | |_______________ MW117013.1\n",
      " ||  |        ||            |\n",
      " ||  |        ||          __|                , MW117032.1\n",
      "_||  |        ||         |  |             ___|\n",
      " ||  |        ||         |  |            |   | MW117028.1\n",
      " ||  |        ||         |  |     _______|\n",
      " ||  |        ||         |  |    |       |  __ MW117031.1\n",
      " ||  |        ||         |  |    |       |_|\n",
      " ||  |        ||         |  |    |         |  , MW117030.1\n",
      " ||  |        ||         |  |____|         |__|\n",
      " ||  |        ||         |       |            | MW117029.1\n",
      " ||  |        ||_________|       |\n",
      " ||  |        |          |       |    ______ MW117005.1\n",
      " ||  |        |          |       |  _|\n",
      " ||  |        |          |       |_| |_____ MW117003.1\n",
      " ||  |        |          |         |\n",
      " ||  |________|          |         |_______ MW117004.1\n",
      " ||           |          |\n",
      " ||           |          |   ______________ MW117033.1\n",
      " ||           |          |  |\n",
      " ||           |          |__|              _ MW117002.1\n",
      " ||           |             |           __|\n",
      " ||           |             |__________|  | MW117001.1\n",
      " ||           |                        |\n",
      " ||           |                        |___ MW117000.1\n",
      " ||           |\n",
      " ||           |               , MW117023.1\n",
      " ||           |  _____________|\n",
      " ||           | |             | MW117022.1\n",
      " ||           | |\n",
      " ||           |,|             , MW117019.1\n",
      " ||           |||     ________|\n",
      " ||           |||    |        |__ MW117018.1\n",
      " ||           |||    |        |\n",
      " ||           |||____|        | MW117015.1\n",
      " ||           ,|     |\n",
      " ||           ||     |          , MW117017.1\n",
      " ||           ||     |__________|\n",
      " ||           ||                |_ MW117016.1\n",
      " ||           ||\n",
      " ||           ||_____________ MW117021.1\n",
      " ||           |\n",
      " ||           |_______________ MW117006.1\n",
      " ||\n",
      " || MW196725.1\n",
      " |\n",
      " , MW196736.1\n",
      " |\n",
      " | MW196726.1\n",
      " |\n",
      " , MW196728.1\n",
      " |\n",
      " |_ MW196724.1\n",
      "\n"
     ]
    }
   ],
   "source": [
    "from Bio import Phylo##CREACION del dendograma osea la separacion por clados de la filogenia de cada sepa del virus sarampion\n",
    "tree = Phylo.read(\"data/sequence.dnd\", \"newick\")\n",
    "Phylo.draw_ascii(tree)"
   ]
  },
  {
   "cell_type": "markdown",
   "metadata": {},
   "source": [
    "**todas las sepas del virus sarampion tuvieron un ancestro en comun y a traves del tiempo y las condiciones que eligieron para radicarse han ido separandose en diferentes sepas desde un ancestro comun o clado filogenetico, entre mas adelante esta la especie mas alejado de las ramas principales de los clados de la que se separaron.\n",
    "en cuanto al codigo se eligieron las especies de sarampion para realizar la filogenia de las diferentes sepas y se graficaron a modo de separacion filogenetica**"
   ]
  },
  {
   "cell_type": "markdown",
   "metadata": {},
   "source": [
    "## Ejercicio 7 [1 punto]\n",
    "\n",
    "\n",
    "1. Cree en GitHub un repositorio de nombre ```GBI6_ExamenPython```. \n",
    "2. Cree un archivo ```Readme.md``` que debe tener lo siguiente: \n",
    "- Datos personales\n",
    "- Características del computador\n",
    "- Versión de Python/Anaconda y de cada uno de los módulos/paquetes y utilizados\n",
    "- Explicación de la data utilizada\n",
    "\n",
    "3. Cree un directorio de nombre ```data``` donde deben estar guardado la data utilizada \n",
    "4. Realice al menos 1 control de la versión (commits) por cada ejercicio (del 1 al 6), con un mensaje que inicie como: \n",
    "\n",
    "```sh \n",
    "Carlitos Alimaña ha realizado .....  \n",
    "```"
   ]
  }
 ],
 "metadata": {
  "kernelspec": {
   "display_name": "Python 3 (ipykernel)",
   "language": "python",
   "name": "python3"
  },
  "language_info": {
   "codemirror_mode": {
    "name": "ipython",
    "version": 3
   },
   "file_extension": ".py",
   "mimetype": "text/x-python",
   "name": "python",
   "nbconvert_exporter": "python",
   "pygments_lexer": "ipython3",
   "version": "3.9.7"
  },
  "latex_envs": {
   "LaTeX_envs_menu_present": true,
   "autoclose": false,
   "autocomplete": true,
   "bibliofile": "biblio.bib",
   "cite_by": "apalike",
   "current_citInitial": 1,
   "eqLabelWithNumbers": true,
   "eqNumInitial": 1,
   "hotkeys": {
    "equation": "Ctrl-E",
    "itemize": "Ctrl-I"
   },
   "labels_anchors": false,
   "latex_user_defs": false,
   "report_style_numbering": false,
   "user_envs_cfg": false
  },
  "toc": {
   "base_numbering": 1,
   "nav_menu": {},
   "number_sections": true,
   "sideBar": false,
   "skip_h1_title": false,
   "title_cell": "Table of Contents",
   "title_sidebar": "Contents",
   "toc_cell": false,
   "toc_position": {
    "height": "1152.67px",
    "left": "41px",
    "top": "110px",
    "width": "253.458px"
   },
   "toc_section_display": true,
   "toc_window_display": false
  },
  "varInspector": {
   "cols": {
    "lenName": 16,
    "lenType": 16,
    "lenVar": 40
   },
   "kernels_config": {
    "python": {
     "delete_cmd_postfix": "",
     "delete_cmd_prefix": "del ",
     "library": "var_list.py",
     "varRefreshCmd": "print(var_dic_list())"
    },
    "r": {
     "delete_cmd_postfix": ") ",
     "delete_cmd_prefix": "rm(",
     "library": "var_list.r",
     "varRefreshCmd": "cat(var_dic_list()) "
    }
   },
   "types_to_exclude": [
    "module",
    "function",
    "builtin_function_or_method",
    "instance",
    "_Feature"
   ],
   "window_display": false
  }
 },
 "nbformat": 4,
 "nbformat_minor": 4
}
